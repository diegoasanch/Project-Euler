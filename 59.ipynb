{
 "metadata": {
  "language_info": {
   "codemirror_mode": {
    "name": "ipython",
    "version": 3
   },
   "file_extension": ".py",
   "mimetype": "text/x-python",
   "name": "python",
   "nbconvert_exporter": "python",
   "pygments_lexer": "ipython3",
   "version": "3.9.1"
  },
  "orig_nbformat": 4,
  "kernelspec": {
   "name": "python3",
   "display_name": "Python 3.9.1 64-bit"
  },
  "interpreter": {
   "hash": "d664e62285ca3c9e4c3f23ea473f175822c7a4484b53b8bbf380cf23128a7685"
  }
 },
 "nbformat": 4,
 "nbformat_minor": 2,
 "cells": [
  {
   "cell_type": "code",
   "execution_count": 7,
   "metadata": {},
   "outputs": [
    {
     "output_type": "stream",
     "name": "stdout",
     "text": [
      "[9, 7, 15, 13, 13]\nhello"
     ]
    }
   ],
   "source": [
    "word = 'hello'\n",
    "key = 'abc'\n",
    "\n",
    "codes = []\n",
    "\n",
    "for i in range(len(word)):\n",
    "    charCode = ord(word[i])\n",
    "    keyCode = ord(key[i % len(key)])\n",
    "\n",
    "    newKey = charCode ^ keyCode\n",
    "    codes.append(newKey)\n",
    "\n",
    "print(codes)\n",
    "\n",
    "for i, char in enumerate(codes):\n",
    "    recovered = char ^ ord(key[i % len(key)])\n",
    "    print(chr(recovered), end='')"
   ]
  },
  {
   "cell_type": "code",
   "execution_count": null,
   "metadata": {},
   "outputs": [],
   "source": []
  }
 ]
}