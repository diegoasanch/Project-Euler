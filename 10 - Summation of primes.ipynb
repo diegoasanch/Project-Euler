{
 "cells": [
  {
   "cell_type": "code",
   "execution_count": 1,
   "metadata": {},
   "outputs": [],
   "source": [
    "from datetime import datetime"
   ]
  },
  {
   "cell_type": "code",
   "execution_count": 2,
   "metadata": {},
   "outputs": [],
   "source": [
    "def is_prime(n):\n",
    "    prime = False\n",
    "    for i in range(2,(int(n**0.5))+1):\n",
    "        if n % i == 0:\n",
    "            break\n",
    "    else:\n",
    "        prime = True\n",
    "    return prime"
   ]
  },
  {
   "cell_type": "code",
   "execution_count": 3,
   "metadata": {},
   "outputs": [],
   "source": [
    "def divisible(n,primes):\n",
    "    for prime in primes:\n",
    "        if n % prime == 0:\n",
    "            break\n",
    "    else:\n",
    "        return False\n",
    "    return True"
   ]
  },
  {
   "cell_type": "code",
   "execution_count": 4,
   "metadata": {},
   "outputs": [],
   "source": [
    "def prime_finder2(up_to):\n",
    "    prime_gen = (number for number in range(2,(up_to + 1)) if is_prime(number))\n",
    "    suma = 0\n",
    "    for item in prime_gen:\n",
    "        suma += item\n",
    "    return suma"
   ]
  },
  {
   "cell_type": "code",
   "execution_count": 5,
   "metadata": {},
   "outputs": [],
   "source": [
    "def prime_finder(up_to):\n",
    "    found = [2]\n",
    "    i = 3\n",
    "    while i < up_to:\n",
    "        if is_prime(i):\n",
    "            found.append(i)\n",
    "        i += 2\n",
    "    return found"
   ]
  },
  {
   "cell_type": "code",
   "execution_count": 6,
   "metadata": {},
   "outputs": [
    {
     "name": "stdin",
     "output_type": "stream",
     "text": [
      "Number to test:  2000000\n"
     ]
    },
    {
     "name": "stdout",
     "output_type": "stream",
     "text": [
      "\n",
      "*Please wait while I do my calculating stuff*\n",
      "\n",
      "\n",
      "The sum of every prime below 2000000 is: 142913828922 \n",
      "I found 148933 primes!\n",
      "\n",
      "prime_finder runtime: 0:00:23.895051\n"
     ]
    }
   ],
   "source": [
    "x = int(input('Number to test: '))\n",
    "print('\\n*Please wait while I do my calculating stuff*\\n\\n')\n",
    "\n",
    "time1 = datetime.now()\n",
    "found = prime_finder(x)\n",
    "suma = sum(found)\n",
    "time2 = datetime.now()\n",
    "elapsed_time = (time2 - time1)\n",
    "\n",
    "print(f'The sum of every prime below {x} is: {suma} \\nI found {len(found)} primes!\\n')\n",
    "print(f'prime_finder runtime: {elapsed_time}')"
   ]
  },
  {
   "cell_type": "code",
   "execution_count": null,
   "metadata": {},
   "outputs": [],
   "source": []
  },
  {
   "cell_type": "code",
   "execution_count": 7,
   "metadata": {},
   "outputs": [
    {
     "name": "stdin",
     "output_type": "stream",
     "text": [
      "Number to test:  2000000\n"
     ]
    },
    {
     "name": "stdout",
     "output_type": "stream",
     "text": [
      "\n",
      "*Please wait while I do my calculating stuff*\n",
      "\n",
      "\n",
      "The sum of every prime below 2000000 is: 142913828922 \n",
      "\n",
      "prime_finder runtime: 0:00:25.026033\n"
     ]
    }
   ],
   "source": [
    "x = int(input('Number to test: '))\n",
    "print('\\n*Please wait while I do my calculating stuff*\\n\\n')\n",
    "\n",
    "time1 = datetime.now()\n",
    "found = prime_finder2(x)\n",
    "time2 = datetime.now()\n",
    "elapsed_time = (time2 - time1)\n",
    "\n",
    "print(f'The sum of every prime below {x} is: {found} \\n')\n",
    "print(f'prime_finder runtime: {elapsed_time}')"
   ]
  },
  {
   "cell_type": "code",
   "execution_count": null,
   "metadata": {},
   "outputs": [],
   "source": []
  },
  {
   "cell_type": "code",
   "execution_count": null,
   "metadata": {},
   "outputs": [],
   "source": []
  },
  {
   "cell_type": "code",
   "execution_count": null,
   "metadata": {},
   "outputs": [],
   "source": []
  }
 ],
 "metadata": {
  "kernelspec": {
   "display_name": "Python 3",
   "language": "python",
   "name": "python3"
  },
  "language_info": {
   "codemirror_mode": {
    "name": "ipython",
    "version": 3
   },
   "file_extension": ".py",
   "mimetype": "text/x-python",
   "name": "python",
   "nbconvert_exporter": "python",
   "pygments_lexer": "ipython3",
   "version": "3.8.2"
  }
 },
 "nbformat": 4,
 "nbformat_minor": 4
}
