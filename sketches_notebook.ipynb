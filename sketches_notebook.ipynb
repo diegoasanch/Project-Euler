{
 "cells": [
  {
   "cell_type": "code",
   "execution_count": 13,
   "metadata": {},
   "outputs": [],
   "source": [
    "def divisors_sum(n):\n",
    "    total = 1\n",
    "    for i in range(2, n // 2 + 1):\n",
    "        if n % i == 0:\n",
    "            total += i\n",
    "    return total"
   ]
  },
  {
   "cell_type": "code",
   "execution_count": 14,
   "metadata": {},
   "outputs": [
    {
     "data": {
      "text/plain": [
       "28"
      ]
     },
     "execution_count": 14,
     "metadata": {},
     "output_type": "execute_result"
    }
   ],
   "source": [
    "divisors_sum(28)"
   ]
  },
  {
   "cell_type": "code",
   "execution_count": 15,
   "metadata": {},
   "outputs": [],
   "source": [
    "def amicable_finder(upto):\n",
    "\n",
    "    for a in range(1, upto + 1):\n",
    "        b = divisors_sum(a)\n",
    "        divs_b = divisors_sum(b)\n",
    "        if divs_b == a:\n",
    "            print(f'- found amicable! d({a}) = {b}, d({b}) = {divs_b}')\n"
   ]
  },
  {
   "cell_type": "code",
   "execution_count": 16,
   "metadata": {},
   "outputs": [
    {
     "name": "stdout",
     "output_type": "stream",
     "text": [
      "- found amicable! d(1) = 1, d(1) = 1\n",
      "- found amicable! d(6) = 6, d(6) = 6\n",
      "- found amicable! d(28) = 28, d(28) = 28\n",
      "- found amicable! d(220) = 284, d(284) = 220\n",
      "- found amicable! d(284) = 220, d(220) = 284\n"
     ]
    }
   ],
   "source": [
    "amicable_finder(300)"
   ]
  },
  {
   "cell_type": "code",
   "execution_count": null,
   "metadata": {},
   "outputs": [],
   "source": []
  }
 ],
 "metadata": {
  "file_extension": ".py",
  "kernelspec": {
   "display_name": "Python 3",
   "language": "python",
   "name": "python3"
  },
  "language_info": {
   "codemirror_mode": {
    "name": "ipython",
    "version": 3
   },
   "file_extension": ".py",
   "mimetype": "text/x-python",
   "name": "python",
   "nbconvert_exporter": "python",
   "pygments_lexer": "ipython3",
   "version": "3.8.2"
  },
  "mimetype": "text/x-python",
  "name": "python",
  "npconvert_exporter": "python",
  "pygments_lexer": "ipython3",
  "version": 3
 },
 "nbformat": 4,
 "nbformat_minor": 4
}
