{
 "cells": [
  {
   "cell_type": "code",
   "execution_count": 1,
   "metadata": {},
   "outputs": [],
   "source": [
    "from datetime import datetime"
   ]
  },
  {
   "cell_type": "code",
   "execution_count": 20,
   "metadata": {},
   "outputs": [],
   "source": [
    "def triangulator(n, last):\n",
    "    triangle = n + last\n",
    "    last += 1\n",
    "    return triangle, last"
   ]
  },
  {
   "cell_type": "code",
   "execution_count": 21,
   "metadata": {},
   "outputs": [],
   "source": [
    "def how_many_divisors(n):\n",
    "    divs = 2        # we start the divisor count on 2 to account for 1 and n\n",
    "    for i in range(2, n // 2 + 1):\n",
    "        if n % i == 0:\n",
    "            divs += 1\n",
    "    return divs"
   ]
  },
  {
   "cell_type": "code",
   "execution_count": 22,
   "metadata": {},
   "outputs": [
    {
     "data": {
      "text/plain": [
       "6"
      ]
     },
     "execution_count": 22,
     "metadata": {},
     "output_type": "execute_result"
    }
   ],
   "source": [
    "how_many_divisors(28)"
   ]
  },
  {
   "cell_type": "code",
   "execution_count": 23,
   "metadata": {},
   "outputs": [],
   "source": [
    "def highly_divisible_tri(upto):\n",
    "    '''\n",
    "    Calculate the first triangular number with over n divisors, pass the expected n number of divisors as a parameter\n",
    "    '''\n",
    "    divisors, last, num = 0, 1, 1\n",
    "    while divisors <= upto:\n",
    "        tri, last = triangulator(num,last)\n",
    "        divisors = how_many_divisors(tri)\n",
    "        num += 1\n",
    "    return tri, divisors"
   ]
  },
  {
   "cell_type": "code",
   "execution_count": 24,
   "metadata": {},
   "outputs": [
    {
     "name": "stdout",
     "output_type": "stream",
     "text": [
      "Gimme a num: 5\n",
      "*Please wait while I calculate*\n",
      "\n",
      "\n",
      "The first triangle with over 5 divisors is 12 with 6 divisors!\n",
      "\n",
      "\n",
      "Runtime: 0:00:00\n"
     ]
    }
   ],
   "source": [
    "upto = int(input('Gimme a num: '))\n",
    "print('*Please wait while I calculate*\\n\\n')\n",
    "\n",
    "t1 = datetime.now()\n",
    "triangle, divisors = highly_divisible_tri(upto)\n",
    "t2 = datetime.now()\n",
    "print(f'The first triangle with over {upto} divisors is {triangle} with {divisors} divisors!\\n\\n')\n",
    "print(f'Runtime: {t2 - t1}')"
   ]
  },
  {
   "cell_type": "code",
   "execution_count": 19,
   "metadata": {},
   "outputs": [
    {
     "data": {
      "text/plain": [
       "(6, 3)"
      ]
     },
     "execution_count": 19,
     "metadata": {},
     "output_type": "execute_result"
    }
   ],
   "source": [
    "triangulator(3,2)"
   ]
  },
  {
   "cell_type": "code",
   "execution_count": null,
   "metadata": {},
   "outputs": [],
   "source": []
  }
 ],
 "metadata": {
  "kernelspec": {
   "display_name": "Python 3",
   "language": "python",
   "name": "python3"
  },
  "language_info": {
   "codemirror_mode": {
    "name": "ipython",
    "version": 3
   },
   "file_extension": ".py",
   "mimetype": "text/x-python",
   "name": "python",
   "nbconvert_exporter": "python",
   "pygments_lexer": "ipython3",
   "version": "3.7.3"
  }
 },
 "nbformat": 4,
 "nbformat_minor": 2
}
