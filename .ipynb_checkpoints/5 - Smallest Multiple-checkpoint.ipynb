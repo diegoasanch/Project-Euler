{
 "cells": [
  {
   "cell_type": "code",
   "execution_count": 19,
   "metadata": {},
   "outputs": [],
   "source": [
    "from datetime import datetime"
   ]
  },
  {
   "cell_type": "code",
   "execution_count": 23,
   "metadata": {},
   "outputs": [],
   "source": [
    "def div_up_to(n):\n",
    "    found = 0\n",
    "    trying = 1 #1\n",
    "    divs = create_divs(n) \n",
    "    while not found:\n",
    "        if divisible(trying,divs):\n",
    "            found = trying\n",
    "        else:\n",
    "            trying += 1\n",
    "            continue\n",
    "    return found\n",
    "        "
   ]
  },
  {
   "cell_type": "code",
   "execution_count": 24,
   "metadata": {},
   "outputs": [],
   "source": [
    "def divisible(trying,divs):\n",
    "    for div in divs:\n",
    "        if trying % div == 0:\n",
    "            continue\n",
    "        else:\n",
    "            break\n",
    "    else:\n",
    "        return True\n",
    "    return False"
   ]
  },
  {
   "cell_type": "code",
   "execution_count": 25,
   "metadata": {},
   "outputs": [],
   "source": [
    "def create_divs(n):\n",
    "    divs = list(range(1,n+1))[::-1]\n",
    "    for i in divs:\n",
    "        for j in divs[divs.index(i)+1::]:\n",
    "            if i % j == 0:\n",
    "                del divs[divs.index(j)]\n",
    "    return divs"
   ]
  },
  {
   "cell_type": "code",
   "execution_count": 39,
   "metadata": {
    "scrolled": true
   },
   "outputs": [
    {
     "name": "stdout",
     "output_type": "stream",
     "text": [
      "Find the smallest number divisible by all numbers up to: 17\n",
      "* Please wait while I calculate it\n",
      "\n",
      "The number I found is 12252240!!\n",
      "it was found in 2.496351 seconds\n"
     ]
    }
   ],
   "source": [
    "x = int(input('Find the smallest number divisible by all numbers up to: '))\n",
    "print('* Please wait while I calculate it\\n')\n",
    "\n",
    "time1 = datetime.now()\n",
    "y = div_up_to(x)\n",
    "time2 = datetime.now()\n",
    "elapsed_time = (time2 - time1).total_seconds()\n",
    "print(f\"\"\"The number I found is {y}!!\n",
    "it was found in {elapsed_time} seconds\"\"\")"
   ]
  },
  {
   "cell_type": "code",
   "execution_count": null,
   "metadata": {},
   "outputs": [],
   "source": []
  },
  {
   "cell_type": "code",
   "execution_count": null,
   "metadata": {},
   "outputs": [],
   "source": []
  },
  {
   "cell_type": "code",
   "execution_count": null,
   "metadata": {},
   "outputs": [],
   "source": []
  },
  {
   "cell_type": "code",
   "execution_count": 22,
   "metadata": {},
   "outputs": [
    {
     "data": {
      "text/plain": [
       "True"
      ]
     },
     "execution_count": 22,
     "metadata": {},
     "output_type": "execute_result"
    }
   ],
   "source": [
    "divisible(2520,list(range(1,11)))"
   ]
  },
  {
   "cell_type": "code",
   "execution_count": 20,
   "metadata": {},
   "outputs": [
    {
     "data": {
      "text/plain": [
       "[10, 9, 8, 7, 6, 5, 4, 3, 2, 1]"
      ]
     },
     "execution_count": 20,
     "metadata": {},
     "output_type": "execute_result"
    }
   ],
   "source": [
    "list(range(1,11))[::-1]"
   ]
  },
  {
   "cell_type": "code",
   "execution_count": 34,
   "metadata": {
    "scrolled": true
   },
   "outputs": [
    {
     "data": {
      "text/plain": [
       "[20, 19, 18, 17, 16, 15, 14, 13, 12, 11]"
      ]
     },
     "execution_count": 34,
     "metadata": {},
     "output_type": "execute_result"
    }
   ],
   "source": [
    "create_divs(20)"
   ]
  },
  {
   "cell_type": "code",
   "execution_count": null,
   "metadata": {},
   "outputs": [],
   "source": []
  }
 ],
 "metadata": {
  "kernelspec": {
   "display_name": "Python 3",
   "language": "python",
   "name": "python3"
  },
  "language_info": {
   "codemirror_mode": {
    "name": "ipython",
    "version": 3
   },
   "file_extension": ".py",
   "mimetype": "text/x-python",
   "name": "python",
   "nbconvert_exporter": "python",
   "pygments_lexer": "ipython3",
   "version": "3.7.3"
  }
 },
 "nbformat": 4,
 "nbformat_minor": 2
}
