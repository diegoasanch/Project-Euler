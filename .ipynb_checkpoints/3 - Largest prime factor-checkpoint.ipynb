{
 "cells": [
  {
   "cell_type": "code",
   "execution_count": 6,
   "metadata": {},
   "outputs": [],
   "source": [
    "def is_prime(n):\n",
    "    prime = False\n",
    "    for i in range(2,(n // 2)+1):\n",
    "        if n % i == 0:\n",
    "            break\n",
    "    else:\n",
    "        prime = True\n",
    "    return prime"
   ]
  },
  {
   "cell_type": "code",
   "execution_count": 11,
   "metadata": {},
   "outputs": [],
   "source": [
    "def largest_prime(n):\n",
    "    # Loop starting on the sqrt of the given number and going backwards\n",
    "    # ultil it finds a divisor, then check whether or not it is prime, if\n",
    "    # it is in fact prime, it will be the largest prime factor\n",
    "    for i in range(int(n**0.5),1,-1):\n",
    "        if n % i == 0:\n",
    "            if is_prime(i):\n",
    "                largest = i\n",
    "                break\n",
    "    return largest          "
   ]
  },
  {
   "cell_type": "code",
   "execution_count": 12,
   "metadata": {},
   "outputs": [
    {
     "name": "stdout",
     "output_type": "stream",
     "text": [
      "Insert an integer: 600851475143\n"
     ]
    },
    {
     "data": {
      "text/plain": [
       "6857"
      ]
     },
     "execution_count": 12,
     "metadata": {},
     "output_type": "execute_result"
    }
   ],
   "source": [
    "x = int(input('Insert an integer: '))\n",
    "largest_prime(x)"
   ]
  },
  {
   "cell_type": "code",
   "execution_count": null,
   "metadata": {},
   "outputs": [],
   "source": []
  }
 ],
 "metadata": {
  "kernelspec": {
   "display_name": "Python 3",
   "language": "python",
   "name": "python3"
  },
  "language_info": {
   "codemirror_mode": {
    "name": "ipython",
    "version": 3
   },
   "file_extension": ".py",
   "mimetype": "text/x-python",
   "name": "python",
   "nbconvert_exporter": "python",
   "pygments_lexer": "ipython3",
   "version": "3.7.3"
  }
 },
 "nbformat": 4,
 "nbformat_minor": 2
}
